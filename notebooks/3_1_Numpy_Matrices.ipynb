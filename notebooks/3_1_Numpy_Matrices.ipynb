{
 "cells": [
  {
   "cell_type": "markdown",
   "metadata": {},
   "source": [
    "# Calcul matriciel et pièges en numpy\n",
    "\n",
    "Un des principaux défauts de ```numpy``` (par rapport à des environnement comme Matlab par exemple) est la **différentiation entre les vecteurs et les matrices**... Cet aspect va poser de nombreux problèmes.\n",
    "\n",
    "Le second défaut réside dans le **dispatch dynamique**: python essaie de faire marcher les calculs, même quand les dimensions des matrices sont incompatibles... Ca fait gagner un peu de temps parfois... Et ça crée des bugs insurmontables d'autres fois."
   ]
  },
  {
   "cell_type": "code",
   "execution_count": 1,
   "metadata": {},
   "outputs": [],
   "source": [
    "import numpy as np"
   ]
  },
  {
   "cell_type": "markdown",
   "metadata": {},
   "source": [
    "# Produit matriciel\n",
    "\n",
    "Il ne faut pas confondre le produit terme à terme, entre matrices de mêmes dimensions et le produit matriciel qui est un ensemble de produits scalaires. \n",
    "Dans le produit matriciel, le nombre de colonne de la première matrice doit correspondre au nombre de ligne de la seconde/\n",
    "\n",
    "\n",
    "<img src=\"./ressources/matrix_mult.png\">\n",
    "\n",
    "$$ {\\color {red}c_{{12}}}=\\sum _{{r=1}}^{2}a_{{1r}}b_{{r2}}=a_{{11}}b_{{12}}+a_{{12}}b_{{22}}$$\n",
    "\n",
    "$$ {\\color {blue}c_{{33}}}=\\sum _{{r=1}}^{2}a_{{3r}}b_{{r3}}=a_{{31}}b_{{13}}+a_{{32}}b_{{23}}$$"
   ]
  },
  {
   "cell_type": "code",
   "execution_count": 16,
   "metadata": {},
   "outputs": [
    {
     "name": "stdout",
     "output_type": "stream",
     "text": [
      "A= [[0. 1.]\n",
      " [2. 3.]\n",
      " [4. 5.]\n",
      " [6. 7.]] \n",
      " B= [[5 4 3]\n",
      " [2 1 0]]\n"
     ]
    },
    {
     "ename": "ValueError",
     "evalue": "operands could not be broadcast together with shapes (4,2) (2,3) ",
     "output_type": "error",
     "traceback": [
      "\u001b[0;31m---------------------------------------------------------------------------\u001b[0m",
      "\u001b[0;31mValueError\u001b[0m                                Traceback (most recent call last)",
      "\u001b[0;32m<ipython-input-16-9bdba85a4c08>\u001b[0m in \u001b[0;36m<module>\u001b[0;34m\u001b[0m\n\u001b[1;32m      6\u001b[0m \u001b[0mC\u001b[0m  \u001b[0;34m=\u001b[0m \u001b[0mA\u001b[0m\u001b[0;34m@\u001b[0m\u001b[0mB\u001b[0m \u001b[0;31m# le plus clair d'après moi\u001b[0m\u001b[0;34m\u001b[0m\u001b[0;34m\u001b[0m\u001b[0m\n\u001b[1;32m      7\u001b[0m \u001b[0mC2\u001b[0m \u001b[0;34m=\u001b[0m \u001b[0mA\u001b[0m\u001b[0;34m.\u001b[0m\u001b[0mdot\u001b[0m\u001b[0;34m(\u001b[0m\u001b[0mB\u001b[0m\u001b[0;34m)\u001b[0m\u001b[0;34m\u001b[0m\u001b[0;34m\u001b[0m\u001b[0m\n\u001b[0;32m----> 8\u001b[0;31m \u001b[0mC3\u001b[0m \u001b[0;34m=\u001b[0m \u001b[0mA\u001b[0m\u001b[0;34m*\u001b[0m\u001b[0mB\u001b[0m\u001b[0;34m\u001b[0m\u001b[0;34m\u001b[0m\u001b[0m\n\u001b[0m\u001b[1;32m      9\u001b[0m \u001b[0;34m\u001b[0m\u001b[0m\n\u001b[1;32m     10\u001b[0m \u001b[0mprint\u001b[0m\u001b[0;34m(\u001b[0m\u001b[0mC\u001b[0m\u001b[0;34m)\u001b[0m\u001b[0;34m\u001b[0m\u001b[0;34m\u001b[0m\u001b[0m\n",
      "\u001b[0;31mValueError\u001b[0m: operands could not be broadcast together with shapes (4,2) (2,3) "
     ]
    }
   ],
   "source": [
    "A = np.array([[0., 1], [2, 3], [4, 5], [6, 7]])\n",
    "B = np.array([[5., 4, 3], [2, 1, 0]])\n",
    "print(\"A=\",A,\"\\n B=\",B)\n",
    "\n",
    "# calcul de produit matriciel, par différents moyens\n",
    "C  = A@B # le plus clair d'après moi\n",
    "C2 = A.dot(B)\n",
    "\n",
    "print(C)"
   ]
  },
  {
   "cell_type": "code",
   "execution_count": 18,
   "metadata": {},
   "outputs": [
    {
     "ename": "ValueError",
     "evalue": "matmul: Input operand 1 has a mismatch in its core dimension 0, with gufunc signature (n?,k),(k,m?)->(n?,m?) (size 3 is different from 2)",
     "output_type": "error",
     "traceback": [
      "\u001b[0;31m---------------------------------------------------------------------------\u001b[0m",
      "\u001b[0;31mValueError\u001b[0m                                Traceback (most recent call last)",
      "\u001b[0;32m<ipython-input-18-20e1b649554e>\u001b[0m in \u001b[0;36m<module>\u001b[0;34m\u001b[0m\n\u001b[1;32m      4\u001b[0m \u001b[0mM\u001b[0m \u001b[0;34m=\u001b[0m \u001b[0mnp\u001b[0m\u001b[0;34m.\u001b[0m\u001b[0marray\u001b[0m\u001b[0;34m(\u001b[0m\u001b[0;34m[\u001b[0m\u001b[0;34m[\u001b[0m\u001b[0;36m0.\u001b[0m\u001b[0;34m,\u001b[0m \u001b[0;36m1\u001b[0m\u001b[0;34m]\u001b[0m\u001b[0;34m,\u001b[0m \u001b[0;34m[\u001b[0m\u001b[0;36m2\u001b[0m\u001b[0;34m,\u001b[0m \u001b[0;36m3\u001b[0m\u001b[0;34m]\u001b[0m\u001b[0;34m,\u001b[0m \u001b[0;34m[\u001b[0m\u001b[0;36m4\u001b[0m\u001b[0;34m,\u001b[0m \u001b[0;36m5\u001b[0m\u001b[0;34m]\u001b[0m\u001b[0;34m]\u001b[0m\u001b[0;34m)\u001b[0m\u001b[0;34m\u001b[0m\u001b[0;34m\u001b[0m\u001b[0m\n\u001b[1;32m      5\u001b[0m \u001b[0;34m\u001b[0m\u001b[0m\n\u001b[0;32m----> 6\u001b[0;31m \u001b[0mprint\u001b[0m\u001b[0;34m(\u001b[0m\u001b[0mA\u001b[0m\u001b[0;34m@\u001b[0m\u001b[0mM\u001b[0m\u001b[0;34m)\u001b[0m\u001b[0;34m\u001b[0m\u001b[0;34m\u001b[0m\u001b[0m\n\u001b[0m",
      "\u001b[0;31mValueError\u001b[0m: matmul: Input operand 1 has a mismatch in its core dimension 0, with gufunc signature (n?,k),(k,m?)->(n?,m?) (size 3 is different from 2)"
     ]
    }
   ],
   "source": [
    "# test sur des matrices incompatibles (matriciel)\n",
    "\n",
    "A = np.array([[0., 1], [2, 3], [4, 5], [6, 7]])\n",
    "M = np.array([[0., 1], [2, 3], [4, 5]])\n",
    "\n",
    "print(A@M)"
   ]
  },
  {
   "cell_type": "code",
   "execution_count": 17,
   "metadata": {},
   "outputs": [
    {
     "name": "stdout",
     "output_type": "stream",
     "text": [
      "[[ 0.  2.]\n",
      " [ 4.  3.]\n",
      " [ 4. 10.]\n",
      " [12.  7.]]\n"
     ]
    }
   ],
   "source": [
    "# et le produit terme à terme, uniquement entre matrices de même dimension\n",
    "\n",
    "A = np.array([[0., 1], [2, 3], [4, 5], [6, 7]])\n",
    "A2 = np.array([[1., 2], [2, 1], [1, 2], [2, 1]])\n",
    "\n",
    "print(A*A2)"
   ]
  },
  {
   "cell_type": "code",
   "execution_count": null,
   "metadata": {},
   "outputs": [],
   "source": [
    "# test sur des données incompatibles (terme à terme)\n",
    "\n",
    "C3 = A*B # tournure historiquement très ambigue : \n",
    "# heureusement, ne marche plus sur les nouvelles versions de python\n",
    "# le * est maintenant réservé aux mutliplications terme à terme"
   ]
  },
  {
   "cell_type": "markdown",
   "metadata": {},
   "source": [
    "## Types de données"
   ]
  },
  {
   "cell_type": "code",
   "execution_count": 2,
   "metadata": {},
   "outputs": [
    {
     "name": "stdout",
     "output_type": "stream",
     "text": [
      "(10,)\n"
     ]
    }
   ],
   "source": [
    "# Les commandes ci-dessous créent des vecteurs\n",
    "\n",
    "v1=np.random.rand(10)\n",
    "v2=np.array([1, 4, 18])\n",
    "v3=np.ones(12)\n",
    "\n",
    "print(v1.shape)"
   ]
  },
  {
   "cell_type": "code",
   "execution_count": 4,
   "metadata": {},
   "outputs": [
    {
     "name": "stdout",
     "output_type": "stream",
     "text": [
      "(10, 2)\n"
     ]
    }
   ],
   "source": [
    "# Les commandes ci-dessous créent des matrices\n",
    "\n",
    "m1=np.random.rand(10,2)\n",
    "m2=np.array([[1, 4, 18],[2, 4, 6]])\n",
    "m3=np.ones((12,2))\n",
    "\n",
    "print(m1.shape)"
   ]
  },
  {
   "cell_type": "code",
   "execution_count": 6,
   "metadata": {},
   "outputs": [
    {
     "name": "stdout",
     "output_type": "stream",
     "text": [
      "v2 et m2 ne sont pas du même type:  (3,) (1, 3)\n"
     ]
    }
   ],
   "source": [
    "# Cas limite\n",
    "\n",
    "v2 = np.array([1, 4, 18])\n",
    "# et \n",
    "m2 = np.array([[1, 4, 18]])\n",
    "\n",
    "print(\"v2 et m2 ne sont pas du même type: \", v2.shape, m2.shape)"
   ]
  },
  {
   "cell_type": "code",
   "execution_count": 22,
   "metadata": {},
   "outputs": [
    {
     "name": "stdout",
     "output_type": "stream",
     "text": [
      "(10,) (10, 2)\n",
      "(10, 1)\n"
     ]
    }
   ],
   "source": [
    "# extraire une ligne ou une colonne => générer un vecteur (et pas une matrice)\n",
    "# => nous sommes obligé de jongler avec les types de données\n",
    "\n",
    "m1 = np.random.rand(10,3)\n",
    "v4 = m1[:,1]   # extraction d'une colonne => vecteur\n",
    "m4 = m1[:,1:3] # extraction de deux colonnes => matrice\n",
    "x1 = m1[:,1:2] # extraction d'une seule colonnes, mais en syntaxe matricielle => ???\n",
    "\n",
    "print(v4.shape, m4.shape)\n",
    "print(x1.shape) # => matrice !!"
   ]
  },
  {
   "cell_type": "markdown",
   "metadata": {},
   "source": [
    "### Pourquoi ces différences de types posent problème?"
   ]
  },
  {
   "cell_type": "markdown",
   "metadata": {},
   "source": []
  },
  {
   "cell_type": "code",
   "execution_count": 36,
   "metadata": {},
   "outputs": [
    {
     "name": "stdout",
     "output_type": "stream",
     "text": [
      "[[ 2.]\n",
      " [ 8.]\n",
      " [14.]\n",
      " [20.]]\n",
      "[ 2.  8. 14. 20.]\n",
      "[[ 2.]\n",
      " [ 8.]\n",
      " [14.]\n",
      " [20.]]\n",
      "[ 2.  8. 14. 20.]\n",
      "\n",
      "\n",
      "[[ 0.  2.]\n",
      " [ 2.  6.]\n",
      " [ 4. 10.]\n",
      " [ 6. 14.]]\n",
      "[[ 0.  2.]\n",
      " [ 2.  6.]\n",
      " [ 4. 10.]\n",
      " [ 6. 14.]]\n"
     ]
    }
   ],
   "source": [
    "A     = np.array([[0., 1], [2, 3], [4, 5], [6, 7]])\n",
    "B_col = np.array([[1.], [2]]) # matrice (=en forme de vecteur colonne)\n",
    "B_li  = np.array([[1., 2]])   # matrice (=en forme de vecteur ligne)\n",
    "B_vec = np.array([1., 2])     # vecteur\n",
    "\n",
    "# print(A@B_li) # KO pour les dimensions => raisonnable, mais attention aux versions de python\n",
    "print(A@B_col)\n",
    "print(A@B_vec) # les résultats n'ont pas les mêmes dimensions\n",
    "print(A.dot(B_col))\n",
    "print(A.dot(B_vec)) # les résultats n'ont pas les mêmes dimensions\n",
    "\n",
    "print(\"\\n\")\n",
    "\n",
    "# print(A*B_col) # Erreur => c'est logique\n",
    "print(A*B_li)    # Catastrophe => ca ne fait pas d'erreur\n",
    "print(A*B_vec)   # Catastrophe => ca ne fait pas d'erreur"
   ]
  },
  {
   "cell_type": "code",
   "execution_count": 41,
   "metadata": {},
   "outputs": [
    {
     "name": "stdout",
     "output_type": "stream",
     "text": [
      "[[5.]]\n",
      "5.0\n",
      "[5.]\n"
     ]
    }
   ],
   "source": [
    "B_col = np.array([[1.], [2]]) # matrice (=en forme de vecteur colonne)\n",
    "B_li  = np.array([[1., 2]])   # matrice (=en forme de vecteur ligne)\n",
    "B_vec = np.array([1., 2])     #\n",
    "\n",
    "print(B_li@B_col) # le calcul est propre... Et renvoie une matrice\n",
    "# print(B_li@B_li)  # KO\n",
    "print(B_vec@B_vec) # produit scalaire\n",
    "print(B_vec@B_col) # renvoie un vecteur\n"
   ]
  },
  {
   "cell_type": "code",
   "execution_count": 48,
   "metadata": {},
   "outputs": [
    {
     "name": "stdout",
     "output_type": "stream",
     "text": [
      "[[1. 2.]\n",
      " [2. 4.]]\n",
      "[[1. 4.]]\n",
      "[[1. 2.]\n",
      " [2. 4.]]\n"
     ]
    }
   ],
   "source": [
    "# tentons dans l'autre sens\n",
    "# \n",
    "print(B_col @ B_li) # renvoie une matrice (OK)\n",
    "# print(B_col @ B_vec) # KO : alors qu'on  voudrait intuitivement que ça marche\n",
    "print(B_vec * B_li) # OK\n",
    "print(B_vec * B_col) # => WAOUH , carrement n'importe quoi !!"
   ]
  },
  {
   "cell_type": "markdown",
   "metadata": {},
   "source": [
    "## Dispatch dynamique\n",
    "\n",
    "Beaucoup de comportements étranges sont liés à cette fonctionnalité. Partons d'un exemple simple et étudions les différentes solutions pratiques:\n",
    "\n",
    "    # Soit la matrice A:\n",
    "    A = np.array([[0., 1], [2, 3], [4, 5], [6, 7]])\n",
    "    # Je souhaite multiplier chaque ligne par le vecteur [1,2]"
   ]
  },
  {
   "cell_type": "code",
   "execution_count": 50,
   "metadata": {},
   "outputs": [
    {
     "name": "stdout",
     "output_type": "stream",
     "text": [
      "[[ 0.  2.]\n",
      " [ 2.  6.]\n",
      " [ 4. 10.]\n",
      " [ 6. 14.]]\n"
     ]
    }
   ],
   "source": [
    "# Soit la matrice A:\n",
    "A = np.array([[0., 1], [2, 3], [4, 5], [6, 7]])\n",
    "\n",
    "# Je souhaite multiplier chaque ligne par le vecteur [1,2]\n"
   ]
  },
  {
   "cell_type": "code",
   "execution_count": null,
   "metadata": {},
   "outputs": [],
   "source": [
    "# solution 1: developpeur standard avec des boucles\n",
    "\n",
    "B = A.copy()\n",
    "for ligne in B:\n",
    "    ligne *= [1,2]\n",
    "print(B)"
   ]
  },
  {
   "cell_type": "code",
   "execution_count": 51,
   "metadata": {},
   "outputs": [
    {
     "name": "stdout",
     "output_type": "stream",
     "text": [
      "[[ 0.  2.]\n",
      " [ 2.  6.]\n",
      " [ 4. 10.]\n",
      " [ 6. 14.]]\n"
     ]
    }
   ],
   "source": [
    "# solution 2: raisonnement matriciel, je veux juste multiplier la seconde colonne\n",
    "B = A.copy()\n",
    "B[:,1] *= 2\n",
    "print(B)"
   ]
  },
  {
   "cell_type": "code",
   "execution_count": 52,
   "metadata": {},
   "outputs": [
    {
     "name": "stdout",
     "output_type": "stream",
     "text": [
      "[[ 0.  2.]\n",
      " [ 2.  6.]\n",
      " [ 4. 10.]\n",
      " [ 6. 14.]]\n"
     ]
    }
   ],
   "source": [
    "# solution 3: je crée une matrice pour ensuite faire une multiplication terme à terme\n",
    "\n",
    "M = np.ones((4,2))\n",
    "M[:,1] *= 2\n",
    "B = A*M\n",
    "print(B)"
   ]
  },
  {
   "cell_type": "code",
   "execution_count": 53,
   "metadata": {},
   "outputs": [
    {
     "name": "stdout",
     "output_type": "stream",
     "text": [
      "[[ 0.  2.]\n",
      " [ 2.  6.]\n",
      " [ 4. 10.]\n",
      " [ 6. 14.]]\n"
     ]
    }
   ],
   "source": [
    "# solution 4: dispatch dynamique\n",
    "# ça ne devrait pas marcher... MAIS\n",
    "#   1. python détecte que le nb de colonne est compatible\n",
    "#   2. python applique l'opération sur chaque ligne automatiquement\n",
    "#   => pratique... Mais risqué: il faut connaitre ce truc pour détecter les bugs associés\n",
    "\n",
    "B = A * [1,2]\n",
    "print(B)"
   ]
  },
  {
   "cell_type": "code",
   "execution_count": 56,
   "metadata": {},
   "outputs": [
    {
     "name": "stdout",
     "output_type": "stream",
     "text": [
      "[[ 0.  1.]\n",
      " [ 4.  6.]\n",
      " [12. 15.]\n",
      " [24. 28.]]\n"
     ]
    }
   ],
   "source": [
    "# pour faire la même chose sur les colonnes\n",
    "# à multiplier par [1, 2, 3, 4]\n",
    "\n",
    "B = A * [[1],[2],[3],[4]] # il faut présenter un vecteur colonne \n",
    "print(B)"
   ]
  },
  {
   "cell_type": "code",
   "execution_count": null,
   "metadata": {},
   "outputs": [],
   "source": []
  }
 ],
 "metadata": {
  "kernelspec": {
   "display_name": "Python 3",
   "language": "python",
   "name": "python3"
  },
  "language_info": {
   "codemirror_mode": {
    "name": "ipython",
    "version": 3
   },
   "file_extension": ".py",
   "mimetype": "text/x-python",
   "name": "python",
   "nbconvert_exporter": "python",
   "pygments_lexer": "ipython3",
   "version": "3.9.4"
  }
 },
 "nbformat": 4,
 "nbformat_minor": 2
}
